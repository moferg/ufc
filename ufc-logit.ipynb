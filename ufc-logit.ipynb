{
    "cells": [
        {
            "cell_type": "markdown",
            "source": [
                "# UFC Logit Model\r\n",
                "## Marshall Ferguson 8/2021"
            ],
            "metadata": {}
        },
        {
            "cell_type": "code",
            "execution_count": 1,
            "source": [
                "# Imports\r\n",
                "\r\n",
                "import matplotlib.pyplot as plt\r\n",
                "import numpy as np\r\n",
                "import pandas as pd\r\n",
                "import seaborn as sns"
            ],
            "outputs": [],
            "metadata": {}
        }
    ],
    "metadata": {
        "orig_nbformat": 4,
        "language_info": {
            "name": "python",
            "version": "3.8.5",
            "mimetype": "text/x-python",
            "codemirror_mode": {
                "name": "ipython",
                "version": 3
            },
            "pygments_lexer": "ipython3",
            "nbconvert_exporter": "python",
            "file_extension": ".py"
        },
        "kernelspec": {
            "name": "python3",
            "display_name": "Python 3.8.5 64-bit ('base': conda)"
        },
        "interpreter": {
            "hash": "590bb9acbdd23f43ccecca7f96a63330f77153c349df4719fc373788bfd8ab7b"
        }
    },
    "nbformat": 4,
    "nbformat_minor": 2
}