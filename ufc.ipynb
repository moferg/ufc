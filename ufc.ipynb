{
 "cells": [
  {
   "cell_type": "markdown",
   "metadata": {},
   "source": [
    "# UFC Data Analysis\n",
    "\n",
    "## Marshall Ferguson 7/2021"
   ]
  },
  {
   "cell_type": "code",
   "execution_count": 3,
   "metadata": {},
   "outputs": [],
   "source": [
    "# Imports\n",
    "\n",
    "import pandas as pd"
   ]
  },
  {
   "cell_type": "code",
   "execution_count": 4,
   "metadata": {},
   "outputs": [
    {
     "output_type": "execute_result",
     "data": {
      "text/plain": [
       "           R_fighter         B_fighter  R_odds  B_odds        R_ev  \\\n",
       "0     Dustin Poirier    Conor McGregor    -129     100   77.519380   \n",
       "1      Gilbert Burns  Stephen Thompson     130    -162  130.000000   \n",
       "2        Tai Tuivasa        Greg Hardy    -130     105   76.923077   \n",
       "3       Irene Aldana   Yana Kunitskaya    -107    -115   93.457944   \n",
       "4      Sean O'Malley     Kris Moutinho   -1000     580   10.000000   \n",
       "...              ...               ...     ...     ...         ...   \n",
       "4778    Duane Ludwig     Darren Elkins    -155     135   64.516129   \n",
       "4779     John Howard    Daniel Roberts    -210     175   47.619048   \n",
       "4780  Brendan Schaub     Chase Gormley    -260     220   38.461538   \n",
       "4781     Mike Pierce     Julio Paulino    -420     335   23.809524   \n",
       "4782    Eric Schafer       Jason Brilz     140    -160  140.000000   \n",
       "\n",
       "            B_ev       date                   location country Winner  ...  \\\n",
       "0     100.000000  7/10/2021     Las Vegas, Nevada, USA     USA    Red  ...   \n",
       "1      61.728395  7/10/2021     Las Vegas, Nevada, USA     USA    Red  ...   \n",
       "2     105.000000  7/10/2021     Las Vegas, Nevada, USA     USA    Red  ...   \n",
       "3      86.956522  7/10/2021     Las Vegas, Nevada, USA     USA    Red  ...   \n",
       "4     580.000000  7/10/2021     Las Vegas, Nevada, USA     USA    Red  ...   \n",
       "...          ...        ...                        ...     ...    ...  ...   \n",
       "4778  135.000000  3/21/2010  Broomfield, Colorado, USA     USA   Blue  ...   \n",
       "4779  175.000000  3/21/2010  Broomfield, Colorado, USA     USA    Red  ...   \n",
       "4780  220.000000  3/21/2010  Broomfield, Colorado, USA     USA    Red  ...   \n",
       "4781  335.000000  3/21/2010  Broomfield, Colorado, USA     USA    Red  ...   \n",
       "4782   62.500000  3/21/2010  Broomfield, Colorado, USA     USA   Blue  ...   \n",
       "\n",
       "      R_pass_bout B_pass_bout R_rev_bout  B_rev_bout  r_dec_odds  b_dec_odds  \\\n",
       "0             NaN         NaN        NaN         NaN       550.0       700.0   \n",
       "1             NaN         NaN        NaN         NaN       400.0       150.0   \n",
       "2             NaN         NaN        NaN         NaN       350.0       350.0   \n",
       "3             NaN         NaN        NaN         NaN       160.0       150.0   \n",
       "4             NaN         NaN        NaN         NaN       400.0      1400.0   \n",
       "...           ...         ...        ...         ...         ...         ...   \n",
       "4778          0.0         0.0        0.0         0.0         NaN         NaN   \n",
       "4779          0.0         1.0        0.0         1.0         NaN         NaN   \n",
       "4780          0.0         0.0        0.0         0.0         NaN         NaN   \n",
       "4781          6.0         0.0        0.0         0.0         NaN         NaN   \n",
       "4782          1.0         6.0        1.0         1.0         NaN         NaN   \n",
       "\n",
       "      r_sub_odds  b_sub_odds  r_ko_odds  b_ko_odds  \n",
       "0          575.0      2200.0      165.0      150.0  \n",
       "1          475.0      2500.0      525.0      250.0  \n",
       "2         1600.0      1800.0      160.0      265.0  \n",
       "3         1200.0      1200.0      425.0      800.0  \n",
       "4          800.0      1600.0     -300.0     1200.0  \n",
       "...          ...         ...        ...        ...  \n",
       "4778         NaN         NaN        NaN        NaN  \n",
       "4779         NaN         NaN        NaN        NaN  \n",
       "4780         NaN         NaN        NaN        NaN  \n",
       "4781         NaN         NaN        NaN        NaN  \n",
       "4782         NaN         NaN        NaN        NaN  \n",
       "\n",
       "[4783 rows x 143 columns]"
      ],
      "text/html": "<div>\n<style scoped>\n    .dataframe tbody tr th:only-of-type {\n        vertical-align: middle;\n    }\n\n    .dataframe tbody tr th {\n        vertical-align: top;\n    }\n\n    .dataframe thead th {\n        text-align: right;\n    }\n</style>\n<table border=\"1\" class=\"dataframe\">\n  <thead>\n    <tr style=\"text-align: right;\">\n      <th></th>\n      <th>R_fighter</th>\n      <th>B_fighter</th>\n      <th>R_odds</th>\n      <th>B_odds</th>\n      <th>R_ev</th>\n      <th>B_ev</th>\n      <th>date</th>\n      <th>location</th>\n      <th>country</th>\n      <th>Winner</th>\n      <th>...</th>\n      <th>R_pass_bout</th>\n      <th>B_pass_bout</th>\n      <th>R_rev_bout</th>\n      <th>B_rev_bout</th>\n      <th>r_dec_odds</th>\n      <th>b_dec_odds</th>\n      <th>r_sub_odds</th>\n      <th>b_sub_odds</th>\n      <th>r_ko_odds</th>\n      <th>b_ko_odds</th>\n    </tr>\n  </thead>\n  <tbody>\n    <tr>\n      <th>0</th>\n      <td>Dustin Poirier</td>\n      <td>Conor McGregor</td>\n      <td>-129</td>\n      <td>100</td>\n      <td>77.519380</td>\n      <td>100.000000</td>\n      <td>7/10/2021</td>\n      <td>Las Vegas, Nevada, USA</td>\n      <td>USA</td>\n      <td>Red</td>\n      <td>...</td>\n      <td>NaN</td>\n      <td>NaN</td>\n      <td>NaN</td>\n      <td>NaN</td>\n      <td>550.0</td>\n      <td>700.0</td>\n      <td>575.0</td>\n      <td>2200.0</td>\n      <td>165.0</td>\n      <td>150.0</td>\n    </tr>\n    <tr>\n      <th>1</th>\n      <td>Gilbert Burns</td>\n      <td>Stephen Thompson</td>\n      <td>130</td>\n      <td>-162</td>\n      <td>130.000000</td>\n      <td>61.728395</td>\n      <td>7/10/2021</td>\n      <td>Las Vegas, Nevada, USA</td>\n      <td>USA</td>\n      <td>Red</td>\n      <td>...</td>\n      <td>NaN</td>\n      <td>NaN</td>\n      <td>NaN</td>\n      <td>NaN</td>\n      <td>400.0</td>\n      <td>150.0</td>\n      <td>475.0</td>\n      <td>2500.0</td>\n      <td>525.0</td>\n      <td>250.0</td>\n    </tr>\n    <tr>\n      <th>2</th>\n      <td>Tai Tuivasa</td>\n      <td>Greg Hardy</td>\n      <td>-130</td>\n      <td>105</td>\n      <td>76.923077</td>\n      <td>105.000000</td>\n      <td>7/10/2021</td>\n      <td>Las Vegas, Nevada, USA</td>\n      <td>USA</td>\n      <td>Red</td>\n      <td>...</td>\n      <td>NaN</td>\n      <td>NaN</td>\n      <td>NaN</td>\n      <td>NaN</td>\n      <td>350.0</td>\n      <td>350.0</td>\n      <td>1600.0</td>\n      <td>1800.0</td>\n      <td>160.0</td>\n      <td>265.0</td>\n    </tr>\n    <tr>\n      <th>3</th>\n      <td>Irene Aldana</td>\n      <td>Yana Kunitskaya</td>\n      <td>-107</td>\n      <td>-115</td>\n      <td>93.457944</td>\n      <td>86.956522</td>\n      <td>7/10/2021</td>\n      <td>Las Vegas, Nevada, USA</td>\n      <td>USA</td>\n      <td>Red</td>\n      <td>...</td>\n      <td>NaN</td>\n      <td>NaN</td>\n      <td>NaN</td>\n      <td>NaN</td>\n      <td>160.0</td>\n      <td>150.0</td>\n      <td>1200.0</td>\n      <td>1200.0</td>\n      <td>425.0</td>\n      <td>800.0</td>\n    </tr>\n    <tr>\n      <th>4</th>\n      <td>Sean O'Malley</td>\n      <td>Kris Moutinho</td>\n      <td>-1000</td>\n      <td>580</td>\n      <td>10.000000</td>\n      <td>580.000000</td>\n      <td>7/10/2021</td>\n      <td>Las Vegas, Nevada, USA</td>\n      <td>USA</td>\n      <td>Red</td>\n      <td>...</td>\n      <td>NaN</td>\n      <td>NaN</td>\n      <td>NaN</td>\n      <td>NaN</td>\n      <td>400.0</td>\n      <td>1400.0</td>\n      <td>800.0</td>\n      <td>1600.0</td>\n      <td>-300.0</td>\n      <td>1200.0</td>\n    </tr>\n    <tr>\n      <th>...</th>\n      <td>...</td>\n      <td>...</td>\n      <td>...</td>\n      <td>...</td>\n      <td>...</td>\n      <td>...</td>\n      <td>...</td>\n      <td>...</td>\n      <td>...</td>\n      <td>...</td>\n      <td>...</td>\n      <td>...</td>\n      <td>...</td>\n      <td>...</td>\n      <td>...</td>\n      <td>...</td>\n      <td>...</td>\n      <td>...</td>\n      <td>...</td>\n      <td>...</td>\n      <td>...</td>\n    </tr>\n    <tr>\n      <th>4778</th>\n      <td>Duane Ludwig</td>\n      <td>Darren Elkins</td>\n      <td>-155</td>\n      <td>135</td>\n      <td>64.516129</td>\n      <td>135.000000</td>\n      <td>3/21/2010</td>\n      <td>Broomfield, Colorado, USA</td>\n      <td>USA</td>\n      <td>Blue</td>\n      <td>...</td>\n      <td>0.0</td>\n      <td>0.0</td>\n      <td>0.0</td>\n      <td>0.0</td>\n      <td>NaN</td>\n      <td>NaN</td>\n      <td>NaN</td>\n      <td>NaN</td>\n      <td>NaN</td>\n      <td>NaN</td>\n    </tr>\n    <tr>\n      <th>4779</th>\n      <td>John Howard</td>\n      <td>Daniel Roberts</td>\n      <td>-210</td>\n      <td>175</td>\n      <td>47.619048</td>\n      <td>175.000000</td>\n      <td>3/21/2010</td>\n      <td>Broomfield, Colorado, USA</td>\n      <td>USA</td>\n      <td>Red</td>\n      <td>...</td>\n      <td>0.0</td>\n      <td>1.0</td>\n      <td>0.0</td>\n      <td>1.0</td>\n      <td>NaN</td>\n      <td>NaN</td>\n      <td>NaN</td>\n      <td>NaN</td>\n      <td>NaN</td>\n      <td>NaN</td>\n    </tr>\n    <tr>\n      <th>4780</th>\n      <td>Brendan Schaub</td>\n      <td>Chase Gormley</td>\n      <td>-260</td>\n      <td>220</td>\n      <td>38.461538</td>\n      <td>220.000000</td>\n      <td>3/21/2010</td>\n      <td>Broomfield, Colorado, USA</td>\n      <td>USA</td>\n      <td>Red</td>\n      <td>...</td>\n      <td>0.0</td>\n      <td>0.0</td>\n      <td>0.0</td>\n      <td>0.0</td>\n      <td>NaN</td>\n      <td>NaN</td>\n      <td>NaN</td>\n      <td>NaN</td>\n      <td>NaN</td>\n      <td>NaN</td>\n    </tr>\n    <tr>\n      <th>4781</th>\n      <td>Mike Pierce</td>\n      <td>Julio Paulino</td>\n      <td>-420</td>\n      <td>335</td>\n      <td>23.809524</td>\n      <td>335.000000</td>\n      <td>3/21/2010</td>\n      <td>Broomfield, Colorado, USA</td>\n      <td>USA</td>\n      <td>Red</td>\n      <td>...</td>\n      <td>6.0</td>\n      <td>0.0</td>\n      <td>0.0</td>\n      <td>0.0</td>\n      <td>NaN</td>\n      <td>NaN</td>\n      <td>NaN</td>\n      <td>NaN</td>\n      <td>NaN</td>\n      <td>NaN</td>\n    </tr>\n    <tr>\n      <th>4782</th>\n      <td>Eric Schafer</td>\n      <td>Jason Brilz</td>\n      <td>140</td>\n      <td>-160</td>\n      <td>140.000000</td>\n      <td>62.500000</td>\n      <td>3/21/2010</td>\n      <td>Broomfield, Colorado, USA</td>\n      <td>USA</td>\n      <td>Blue</td>\n      <td>...</td>\n      <td>1.0</td>\n      <td>6.0</td>\n      <td>1.0</td>\n      <td>1.0</td>\n      <td>NaN</td>\n      <td>NaN</td>\n      <td>NaN</td>\n      <td>NaN</td>\n      <td>NaN</td>\n      <td>NaN</td>\n    </tr>\n  </tbody>\n</table>\n<p>4783 rows × 143 columns</p>\n</div>"
     },
     "metadata": {},
     "execution_count": 4
    }
   ],
   "source": [
    "# Read in dataset\n",
    "\n",
    "df = pd.read_csv('ufc-master.csv')\n",
    "\n",
    "df"
   ]
  },
  {
   "source": [
    "## Who is the fighter with..."
   ],
   "cell_type": "markdown",
   "metadata": {}
  },
  {
   "source": [
    "# The most KO/TKO wins\n",
    "\n",
    "blue_most_KOs = df['B_win_by_KO/TKO'].max()\n",
    "red_most_KOs = df['R_win_by_KO/TKO'].max()\n",
    "index_blue_most_KOs = pd.Index(df['B_win_by_KO/TKO']).argmax()\n",
    "index_red_most_KOs = pd.Index(df['R_win_by_KO/TKO']).argmax()\n",
    "\n",
    "most_KOs = None\n",
    "numb_of_KOs = None\n",
    "if blue_most_KOs > red_most_KOs:\n",
    "    most_KOs = df['B_fighter'].iloc[index_blue_most_KOs]\n",
    "    numb_of_KOs = blue_most_KOs\n",
    "else:\n",
    "    most_KOs = df['R_fighter'].iloc[index_red_most_KOs]\n",
    "    numb_of_KOs = red_most_KOs\n",
    "\n",
    "print(f'The fighter with the most wins by KO/TKO is {most_KOs} with {numb_of_KOs} KOs')"
   ],
   "cell_type": "code",
   "metadata": {},
   "execution_count": 9,
   "outputs": [
    {
     "output_type": "stream",
     "name": "stdout",
     "text": [
      "The fighter with the most wins by KO/TKO is Mauricio Rua with 21 KOs\n"
     ]
    }
   ]
  },
  {
   "cell_type": "code",
   "execution_count": 20,
   "metadata": {},
   "outputs": [
    {
     "output_type": "stream",
     "name": "stdout",
     "text": [
      "The fighter with the most wins by submission is Charles Oliveira with 14 submissions\n"
     ]
    }
   ],
   "source": [
    "# The most submission wins\n",
    "\n",
    "blue_most_subs = df['B_win_by_Submission'].max()\n",
    "red_most_subs = df['R_win_by_Submission'].max()\n",
    "index_blue_most_subs = pd.Index(df['B_win_by_Submission']).argmax()\n",
    "index_red_most_subs = pd.Index(df['R_win_by_Submission']).argmax()\n",
    "\n",
    "most_subs = None\n",
    "numb_of_subs = None\n",
    "if blue_most_subs > red_most_subs:\n",
    "    most_subs = df['B_fighter'].iloc[index_blue_most_subs]\n",
    "    numb_of_subs = blue_most_subs\n",
    "else:\n",
    "    most_subs = df['R_fighter'].iloc[index_red_most_subs]\n",
    "    numb_of_subs = red_most_subs\n",
    "\n",
    "print(f'The fighter with the most wins by submission is {most_subs} with {numb_of_subs} submissions')"
   ]
  },
  {
   "cell_type": "code",
   "execution_count": 5,
   "metadata": {},
   "outputs": [
    {
     "output_type": "stream",
     "name": "stdout",
     "text": [
      "The fighter with the most wins by Majority Decision is Daniel Omielanczuk with 2 MD's\n"
     ]
    }
   ],
   "source": [
    "# The most Majority Decision wins\n",
    "\n",
    "blue_most_MDs = df['B_win_by_Decision_Majority'].max()\n",
    "red_most_MDs = df['R_win_by_Decision_Majority'].max()\n",
    "index_blue_most_MDs = pd.Index(df['B_win_by_Decision_Majority']).argmax()\n",
    "index_red_most_MDs = pd.Index(df['R_win_by_Decision_Majority']).argmax()\n",
    "\n",
    "most_MDs = None\n",
    "numb_of_MDs = None\n",
    "if blue_most_MDs > red_most_MDs:\n",
    "    most_MDs = df['B_fighter'].iloc[index_blue_most_MDs]\n",
    "    numb_of_MDs = blue_most_MDs\n",
    "else:\n",
    "    most_MDs = df['R_fighter'].iloc[index_red_most_MDs]\n",
    "    numb_of_MDs = red_most_MDs\n",
    "\n",
    "print(f'The fighter with the most wins by Majority Decision is {most_MDs} with {numb_of_MDs} MD\\'s')"
   ]
  },
  {
   "cell_type": "code",
   "execution_count": 7,
   "metadata": {},
   "outputs": [
    {
     "output_type": "stream",
     "name": "stdout",
     "text": [
      "The fighter with the most wins by Split Decision is Gleison Tibau with 5 SD's\n"
     ]
    }
   ],
   "source": [
    "# The most Split Decision wins\n",
    "\n",
    "blue_most_SDs = df['B_win_by_Decision_Split'].max()\n",
    "red_most_SDs = df['R_win_by_Decision_Split'].max()\n",
    "index_blue_most_SDs = pd.Index(df['B_win_by_Decision_Split']).argmax()\n",
    "index_red_most_SDs = pd.Index(df['R_win_by_Decision_Split']).argmax()\n",
    "\n",
    "most_SDs = None\n",
    "numb_of_SDs = None\n",
    "if blue_most_SDs > red_most_SDs:\n",
    "    most_SDs = df['B_fighter'].iloc[index_blue_most_SDs]\n",
    "    numb_of_SDs = blue_most_SDs\n",
    "else:\n",
    "    most_SDs = df['R_fighter'].iloc[index_red_most_SDs]\n",
    "    numb_of_SDs = red_most_SDs\n",
    "\n",
    "print(f'The fighter with the most wins by Split Decision is {most_SDs} with {numb_of_SDs} SD\\'s')"
   ]
  },
  {
   "cell_type": "code",
   "execution_count": 8,
   "metadata": {},
   "outputs": [
    {
     "output_type": "stream",
     "name": "stdout",
     "text": [
      "The fighter with the most wins by Unanimous Decision is Neil Magny with 10 UD's\n"
     ]
    }
   ],
   "source": [
    "# The most Unaninmous Decision wins\n",
    "blue_most_UDs = df['B_win_by_Decision_Unanimous'].max()\n",
    "red_most_UDs = df['R_win_by_Decision_Unanimous'].max()\n",
    "index_blue_most_UDs = pd.Index(df['B_win_by_Decision_Unanimous']).argmax()\n",
    "index_red_most_UDs = pd.Index(df['R_win_by_Decision_Unanimous']).argmax()\n",
    "\n",
    "most_UDs = None\n",
    "numb_of_UDs = None\n",
    "if blue_most_UDs > red_most_UDs:\n",
    "    most_UDs = df['B_fighter'].iloc[index_blue_most_UDs]\n",
    "    numb_of_UDs = blue_most_UDs\n",
    "else:\n",
    "    most_UDs = df['R_fighter'].iloc[index_red_most_UDs]\n",
    "    numb_of_UDs = red_most_UDs\n",
    "\n",
    "print(f'The fighter with the most wins by Unanimous Decision is {most_UDs} with {numb_of_UDs} UD\\'s')"
   ]
  },
  {
   "cell_type": "code",
   "execution_count": 21,
   "metadata": {},
   "outputs": [],
   "source": [
    "# The most decision wins"
   ]
  }
 ],
 "metadata": {
  "kernelspec": {
   "name": "python3",
   "display_name": "Python 3.8.5 64-bit ('base': conda)"
  },
  "language_info": {
   "codemirror_mode": {
    "name": "ipython",
    "version": 3
   },
   "file_extension": ".py",
   "mimetype": "text/x-python",
   "name": "python",
   "nbconvert_exporter": "python",
   "pygments_lexer": "ipython3",
   "version": "3.8.5"
  },
  "interpreter": {
   "hash": "590bb9acbdd23f43ccecca7f96a63330f77153c349df4719fc373788bfd8ab7b"
  }
 },
 "nbformat": 4,
 "nbformat_minor": 4
}